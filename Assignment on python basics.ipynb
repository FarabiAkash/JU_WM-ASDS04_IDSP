{
 "cells": [
  {
   "cell_type": "markdown",
   "id": "52e868ec",
   "metadata": {},
   "source": [
    "# Assignment 01\n"
   ]
  },
  {
   "cell_type": "markdown",
   "id": "54ec45a1",
   "metadata": {},
   "source": [
    "####  1. Write a Python program to count the number of characters (character frequency) in a string.\n",
    "####  Sample String : google.com\n",
    "####  Expected Result : {'o': 3, 'g': 2, '.': 1, 'e': 1, 'l': 1, 'm': 1, 'c': 1}\n"
   ]
  },
  {
   "cell_type": "code",
   "execution_count": 1,
   "id": "932ed349",
   "metadata": {},
   "outputs": [
    {
     "name": "stdout",
     "output_type": "stream",
     "text": [
      "Expected Result :  {'g': 2, 'o': 3, 'l': 1, 'e': 1, '.': 1, 'c': 1, 'm': 1}\n"
     ]
    }
   ],
   "source": [
    "sample_str = 'google.com'\n",
    "result = {}\n",
    "for i in sample_str:\n",
    "\n",
    "    try:\n",
    "        result[i]\n",
    "        result[i]= result[i]+1\n",
    "    except:        \n",
    "        result[i]=1\n",
    "    \n",
    "print('Expected Result : ',result)"
   ]
  },
  {
   "cell_type": "markdown",
   "id": "d31c58a2",
   "metadata": {},
   "source": [
    "#### 2. Write a Python program to check if a given key already exists in a dictionary. "
   ]
  },
  {
   "cell_type": "code",
   "execution_count": 2,
   "id": "f5c1d528",
   "metadata": {},
   "outputs": [
    {
     "name": "stdout",
     "output_type": "stream",
     "text": [
      "\n",
      "Key is absent\n"
     ]
    }
   ],
   "source": [
    "result={'g': 2, 'o': 3, 'l': 1, 'e': 1, '.': 1, 'c': 1, 'm': 1}\n",
    "\n",
    "input_key= input()\n",
    "\n",
    "if input_key in result.keys():\n",
    "    print(\"Key is present in the dictionary.\")\n",
    "else:\n",
    "    print(\"Key is absent\")\n",
    "\n"
   ]
  },
  {
   "cell_type": "markdown",
   "id": "13ae7568",
   "metadata": {},
   "source": [
    "#### 3. Write a Python program that accepts a sequence of comma-separated numbers from the user and generates a list and a tuple of those numbers. Sample data : 1, 5, 7, 23\n",
    "#### Expected Output :\n",
    "#### List : ['1', ' 5', ' 7', ' 23']\n",
    "#### Tuple : ('1', ' 5', ' 7', ' 23')\n"
   ]
  },
  {
   "cell_type": "code",
   "execution_count": 3,
   "id": "fe4f8dcf",
   "metadata": {},
   "outputs": [
    {
     "name": "stdout",
     "output_type": "stream",
     "text": [
      "5, 6, 8, 3\n",
      "List :  ['5', '6', '8', '3']\n",
      "Tuple :  ('5', '6', '8', '3')\n"
     ]
    }
   ],
   "source": [
    "# sample_data = '1, 5, 7, 23'\n",
    "sample_data = input()\n",
    "new_data = sample_data.split(\", \")\n",
    "list_data = new_data\n",
    "tuple_data = tuple(new_data)\n",
    "print('List : ',new_data)\n",
    "print('Tuple : ',tuple_data)\n",
    "\n"
   ]
  },
  {
   "cell_type": "markdown",
   "id": "742e4865",
   "metadata": {},
   "source": [
    "#### 4. Write a Python program to calculate the number of days between two dates. \n",
    "##### Sample dates : (2014, 7, 2), (2014, 7, 11)   Expected output : 9 days\n"
   ]
  },
  {
   "cell_type": "code",
   "execution_count": 4,
   "id": "32794208",
   "metadata": {},
   "outputs": [
    {
     "name": "stdout",
     "output_type": "stream",
     "text": [
      "Expected output : 9 days\n"
     ]
    }
   ],
   "source": [
    "from datetime import datetime\n",
    "d1 = '2014, 7, 2'\n",
    "d2 = '2014, 7, 11'\n",
    "\n",
    "date_d1 = datetime.strptime(d1, '%Y, %m, %d').date()\n",
    "date_d2 = datetime.strptime(d2, '%Y, %m, %d').date()\n",
    "difference =date_d2-date_d1\n",
    "print('Expected output :',difference.days, 'days')\n",
    "\n"
   ]
  },
  {
   "cell_type": "markdown",
   "id": "0daae4eb",
   "metadata": {},
   "source": [
    "#### 5. Write a Python program to solve (x + y) * (x + y). Test Data : x = 4, y = 3\n",
    "#### Expected Output : (4 + 3) ^ 2) = 49\n"
   ]
  },
  {
   "cell_type": "code",
   "execution_count": 5,
   "id": "f0883457",
   "metadata": {},
   "outputs": [
    {
     "name": "stdout",
     "output_type": "stream",
     "text": [
      "x= 5\n",
      "y= 6\n",
      "Expected Output : ( 5 + 6 )^2)= 121\n"
     ]
    }
   ],
   "source": [
    "# x=4\n",
    "# y=3\n",
    "\n",
    "x=int(input('x= '))\n",
    "y=int(input('y= '))\n",
    "result = (x+y)*(x+y)\n",
    "print('Expected Output : (',x,'+',y,')^2)=', result)\n"
   ]
  },
  {
   "cell_type": "markdown",
   "id": "c2a0bf0f",
   "metadata": {},
   "source": [
    "#### 6. Write a Python program to compute the future value of a specified principal amount,rate of interest, and number of years. \n",
    "#### Test Data : amt = 10000, int = 3.5, years = 7,    Expected Output : 12722.79\n"
   ]
  },
  {
   "cell_type": "code",
   "execution_count": 6,
   "id": "367b4ef6",
   "metadata": {},
   "outputs": [
    {
     "name": "stdout",
     "output_type": "stream",
     "text": [
      "principal amount= 54444\n",
      "rate of interest= 5\n",
      "number of years= 80\n",
      "Expected Output :  2698323.1\n"
     ]
    }
   ],
   "source": [
    "amt = 10000\n",
    "intr = 3.5\n",
    "years = 7\n",
    "\n",
    "amt=float(input('principal amount= '))\n",
    "intr=float(input('rate of interest= '))\n",
    "years=float(input('number of years= '))\n",
    "\n",
    "\n",
    "future_value = amt *((1 +(intr/100))**years)\n",
    "future_value = round(future_value,2)\n",
    "\n",
    "print('Expected Output : ',future_value)\n",
    "\n",
    "\n"
   ]
  },
  {
   "cell_type": "markdown",
   "id": "a5f198ac",
   "metadata": {},
   "source": [
    "#### 7. Write a Python program that removes duplicate elements from a given array of numbers so that each element appears only once and returns the new length of the array. Sample Input: [0,0,1,1,2,2,3,3,4,4,4]\n",
    "#### Sample Output: The list of unique numbers: [0,1,2,3,4]  length of the unique list : 5\n"
   ]
  },
  {
   "cell_type": "code",
   "execution_count": 7,
   "id": "a106adfa",
   "metadata": {},
   "outputs": [
    {
     "name": "stdout",
     "output_type": "stream",
     "text": [
      "The list of unique numbers:  [0, 1, 2, 3, 4] length of the unique list : 5\n"
     ]
    }
   ],
   "source": [
    "sample_data = [0,0,1,1,2,2,3,3,4,4,4]\n",
    "# sample_data = input()\n",
    "\n",
    "new_list = list(dict.fromkeys(sample_data))\n",
    "\n",
    "print('The list of unique numbers: ',new_list, 'length of the unique list :',len(new_list))\n"
   ]
  },
  {
   "cell_type": "markdown",
   "id": "43142b69",
   "metadata": {},
   "source": [
    "#### 8. Write a Python program to sort (ascending and descending) a dictionary by key value. "
   ]
  },
  {
   "cell_type": "code",
   "execution_count": 8,
   "id": "454844e0",
   "metadata": {},
   "outputs": [
    {
     "name": "stdout",
     "output_type": "stream",
     "text": [
      "Sorted in ascending order {'c': 1, 'e': 1, 'g': 2, 'l': 1, 'm': 1, 'o': 3}\n",
      "Sorted in descending order {'o': 3, 'm': 1, 'l': 1, 'g': 2, 'e': 1, 'c': 1}\n"
     ]
    }
   ],
   "source": [
    "my_dict= {'g': 2, 'o': 3, 'l': 1, 'e': 1, 'c': 1, 'm': 1}\n",
    "\n",
    "new_dict_asc = dict(sorted(my_dict.items())) \n",
    "new_dict_dec = dict(sorted(my_dict.items(),  reverse = True)) \n",
    "\n",
    "print('Sorted in ascending order',new_dict_asc)\n",
    "print('Sorted in descending order', new_dict_dec)"
   ]
  },
  {
   "cell_type": "markdown",
   "id": "749a9d10",
   "metadata": {},
   "source": [
    "9. Write a Python program to add key to a dictionary. Go to the editor\n",
    "Sample Dictionary : {0: 10, 1: 20}\n",
    "Expected Result : {0: 10, 1: 20, 2: 30}\n"
   ]
  },
  {
   "cell_type": "code",
   "execution_count": 9,
   "id": "2de9e8df",
   "metadata": {},
   "outputs": [
    {
     "name": "stdout",
     "output_type": "stream",
     "text": [
      "Sample data:  {0: 10, 1: 20}\n",
      "Expected data:  {0: 10, 1: 20, 2: 30}\n"
     ]
    }
   ],
   "source": [
    "sample_dict = {0:10, 1:20}\n",
    "print('Sample data: ',sample_dict)\n",
    "sample_dict.update({2:30})\n",
    "print('Expected data: ',sample_dict)"
   ]
  },
  {
   "cell_type": "markdown",
   "id": "34f450d5",
   "metadata": {},
   "source": [
    "#### 10. Write a Pandas program to create and display a DataFrame from a specified dictionary data which has the index labels. \n",
    "Sample Python dictionary data and list labels:\n",
    "\n",
    "exam_data = {'name': ['Arif', 'Asir', 'Arik', 'Anis', 'Anil', 'Ashish', 'Anahi', 'Alia', 'Alvin', 'Asim'],'score': [12.5, 9, 16.5, np.nan, 9, 20, 14.5, np.nan, 8, 19],\n",
    "'attempts': [1, 3, 2, 3, 2, 3, 1, 1, 2, 1],\n",
    "'qualify': ['yes', 'no', 'yes', 'no', 'no', 'yes', 'yes', 'no', 'no', 'yes']}\n",
    "labels = ['a', 'b', 'c', 'd', 'e', 'f', 'g', 'h', 'i', 'j']"
   ]
  },
  {
   "cell_type": "code",
   "execution_count": 14,
   "id": "353eaf08",
   "metadata": {},
   "outputs": [
    {
     "name": "stdout",
     "output_type": "stream",
     "text": [
      "New Data Frame: \n"
     ]
    },
    {
     "data": {
      "text/html": [
       "<div>\n",
       "<style scoped>\n",
       "    .dataframe tbody tr th:only-of-type {\n",
       "        vertical-align: middle;\n",
       "    }\n",
       "\n",
       "    .dataframe tbody tr th {\n",
       "        vertical-align: top;\n",
       "    }\n",
       "\n",
       "    .dataframe thead th {\n",
       "        text-align: right;\n",
       "    }\n",
       "</style>\n",
       "<table border=\"1\" class=\"dataframe\">\n",
       "  <thead>\n",
       "    <tr style=\"text-align: right;\">\n",
       "      <th></th>\n",
       "      <th>name</th>\n",
       "      <th>score</th>\n",
       "      <th>attempts</th>\n",
       "      <th>qualify</th>\n",
       "      <th>labels</th>\n",
       "    </tr>\n",
       "  </thead>\n",
       "  <tbody>\n",
       "    <tr>\n",
       "      <th>0</th>\n",
       "      <td>Arif</td>\n",
       "      <td>12.5</td>\n",
       "      <td>1</td>\n",
       "      <td>yes</td>\n",
       "      <td>a</td>\n",
       "    </tr>\n",
       "    <tr>\n",
       "      <th>1</th>\n",
       "      <td>Asir</td>\n",
       "      <td>9.0</td>\n",
       "      <td>3</td>\n",
       "      <td>no</td>\n",
       "      <td>b</td>\n",
       "    </tr>\n",
       "    <tr>\n",
       "      <th>2</th>\n",
       "      <td>Arik</td>\n",
       "      <td>16.5</td>\n",
       "      <td>2</td>\n",
       "      <td>yes</td>\n",
       "      <td>c</td>\n",
       "    </tr>\n",
       "    <tr>\n",
       "      <th>3</th>\n",
       "      <td>Anis</td>\n",
       "      <td>NaN</td>\n",
       "      <td>3</td>\n",
       "      <td>no</td>\n",
       "      <td>d</td>\n",
       "    </tr>\n",
       "    <tr>\n",
       "      <th>4</th>\n",
       "      <td>Anil</td>\n",
       "      <td>9.0</td>\n",
       "      <td>2</td>\n",
       "      <td>no</td>\n",
       "      <td>e</td>\n",
       "    </tr>\n",
       "    <tr>\n",
       "      <th>5</th>\n",
       "      <td>Ashish</td>\n",
       "      <td>20.0</td>\n",
       "      <td>3</td>\n",
       "      <td>yes</td>\n",
       "      <td>f</td>\n",
       "    </tr>\n",
       "    <tr>\n",
       "      <th>6</th>\n",
       "      <td>Anahi</td>\n",
       "      <td>14.5</td>\n",
       "      <td>1</td>\n",
       "      <td>yes</td>\n",
       "      <td>g</td>\n",
       "    </tr>\n",
       "    <tr>\n",
       "      <th>7</th>\n",
       "      <td>Alia</td>\n",
       "      <td>NaN</td>\n",
       "      <td>1</td>\n",
       "      <td>no</td>\n",
       "      <td>h</td>\n",
       "    </tr>\n",
       "    <tr>\n",
       "      <th>8</th>\n",
       "      <td>Alvin</td>\n",
       "      <td>8.0</td>\n",
       "      <td>2</td>\n",
       "      <td>no</td>\n",
       "      <td>i</td>\n",
       "    </tr>\n",
       "    <tr>\n",
       "      <th>9</th>\n",
       "      <td>Asim</td>\n",
       "      <td>19.0</td>\n",
       "      <td>1</td>\n",
       "      <td>yes</td>\n",
       "      <td>j</td>\n",
       "    </tr>\n",
       "  </tbody>\n",
       "</table>\n",
       "</div>"
      ],
      "text/plain": [
       "     name  score  attempts qualify labels\n",
       "0    Arif   12.5         1     yes      a\n",
       "1    Asir    9.0         3      no      b\n",
       "2    Arik   16.5         2     yes      c\n",
       "3    Anis    NaN         3      no      d\n",
       "4    Anil    9.0         2      no      e\n",
       "5  Ashish   20.0         3     yes      f\n",
       "6   Anahi   14.5         1     yes      g\n",
       "7    Alia    NaN         1      no      h\n",
       "8   Alvin    8.0         2      no      i\n",
       "9    Asim   19.0         1     yes      j"
      ]
     },
     "execution_count": 14,
     "metadata": {},
     "output_type": "execute_result"
    }
   ],
   "source": [
    "import pandas as pd\n",
    "import numpy as np\n",
    "\n",
    "exam_data = {\n",
    "    'name': ['Arif', 'Asir', 'Arik', 'Anis', 'Anil', 'Ashish', 'Anahi', 'Alia', 'Alvin', 'Asim'],\n",
    "    'score': [12.5, 9, 16.5, np.nan, 9, 20, 14.5, np.nan, 8, 19],\n",
    "    'attempts': [1, 3, 2, 3, 2, 3, 1, 1, 2, 1],\n",
    "    'qualify': ['yes', 'no', 'yes', 'no', 'no', 'yes', 'yes', 'no', 'no', 'yes']\n",
    "            }\n",
    "labels = ['a', 'b', 'c', 'd', 'e', 'f', 'g', 'h', 'i', 'j']\n",
    "\n",
    "df = pd.DataFrame.from_dict(exam_data)\n",
    "df\n",
    "\n",
    "np_labels= np.array(labels)\n",
    "df['labels']=np_labels.tolist()\n",
    "\n",
    "print('New Data Frame: ')\n",
    "df\n"
   ]
  },
  {
   "cell_type": "code",
   "execution_count": null,
   "id": "be41a570",
   "metadata": {},
   "outputs": [],
   "source": []
  }
 ],
 "metadata": {
  "kernelspec": {
   "display_name": "Python 3 (ipykernel)",
   "language": "python",
   "name": "python3"
  },
  "language_info": {
   "codemirror_mode": {
    "name": "ipython",
    "version": 3
   },
   "file_extension": ".py",
   "mimetype": "text/x-python",
   "name": "python",
   "nbconvert_exporter": "python",
   "pygments_lexer": "ipython3",
   "version": "3.9.12"
  }
 },
 "nbformat": 4,
 "nbformat_minor": 5
}
